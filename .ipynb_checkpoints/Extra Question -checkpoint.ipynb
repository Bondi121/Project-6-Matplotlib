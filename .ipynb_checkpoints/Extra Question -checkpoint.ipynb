{
 "cells": [
  {
   "cell_type": "code",
   "execution_count": 15,
   "id": "29129608",
   "metadata": {},
   "outputs": [
    {
     "data": {
      "text/html": [
       "<div>\n",
       "<style scoped>\n",
       "    .dataframe tbody tr th:only-of-type {\n",
       "        vertical-align: middle;\n",
       "    }\n",
       "\n",
       "    .dataframe tbody tr th {\n",
       "        vertical-align: top;\n",
       "    }\n",
       "\n",
       "    .dataframe thead th {\n",
       "        text-align: right;\n",
       "    }\n",
       "</style>\n",
       "<table border=\"1\" class=\"dataframe\">\n",
       "  <thead>\n",
       "    <tr style=\"text-align: right;\">\n",
       "      <th></th>\n",
       "      <th>Rank</th>\n",
       "      <th>Name</th>\n",
       "      <th>Platform</th>\n",
       "      <th>Year</th>\n",
       "      <th>Genre</th>\n",
       "      <th>Publisher</th>\n",
       "      <th>NA_Sales</th>\n",
       "      <th>EU_Sales</th>\n",
       "      <th>JP_Sales</th>\n",
       "      <th>Other_Sales</th>\n",
       "      <th>Global_Sales</th>\n",
       "    </tr>\n",
       "  </thead>\n",
       "  <tbody>\n",
       "    <tr>\n",
       "      <th>0</th>\n",
       "      <td>1</td>\n",
       "      <td>Wii Sports</td>\n",
       "      <td>Nintendo</td>\n",
       "      <td>2006</td>\n",
       "      <td>Sports</td>\n",
       "      <td>Nintendo</td>\n",
       "      <td>41.49</td>\n",
       "      <td>29.02</td>\n",
       "      <td>3.77</td>\n",
       "      <td>8.46</td>\n",
       "      <td>82.74</td>\n",
       "    </tr>\n",
       "    <tr>\n",
       "      <th>1</th>\n",
       "      <td>2</td>\n",
       "      <td>Mario Kart Wii</td>\n",
       "      <td>Nintendo</td>\n",
       "      <td>2008</td>\n",
       "      <td>Racing</td>\n",
       "      <td>Nintendo</td>\n",
       "      <td>15.85</td>\n",
       "      <td>12.88</td>\n",
       "      <td>3.79</td>\n",
       "      <td>3.31</td>\n",
       "      <td>35.82</td>\n",
       "    </tr>\n",
       "    <tr>\n",
       "      <th>2</th>\n",
       "      <td>3</td>\n",
       "      <td>Wii Sports Resort</td>\n",
       "      <td>Nintendo</td>\n",
       "      <td>2009</td>\n",
       "      <td>Sports</td>\n",
       "      <td>Nintendo</td>\n",
       "      <td>15.75</td>\n",
       "      <td>11.01</td>\n",
       "      <td>3.28</td>\n",
       "      <td>2.96</td>\n",
       "      <td>33.00</td>\n",
       "    </tr>\n",
       "    <tr>\n",
       "      <th>3</th>\n",
       "      <td>4</td>\n",
       "      <td>New Super Mario Bros.</td>\n",
       "      <td>Nintendo</td>\n",
       "      <td>2006</td>\n",
       "      <td>Platform</td>\n",
       "      <td>Nintendo</td>\n",
       "      <td>11.38</td>\n",
       "      <td>9.23</td>\n",
       "      <td>6.50</td>\n",
       "      <td>2.90</td>\n",
       "      <td>30.01</td>\n",
       "    </tr>\n",
       "    <tr>\n",
       "      <th>4</th>\n",
       "      <td>5</td>\n",
       "      <td>Wii Play</td>\n",
       "      <td>Nintendo</td>\n",
       "      <td>2006</td>\n",
       "      <td>Misc</td>\n",
       "      <td>Nintendo</td>\n",
       "      <td>14.03</td>\n",
       "      <td>9.20</td>\n",
       "      <td>2.93</td>\n",
       "      <td>2.85</td>\n",
       "      <td>29.02</td>\n",
       "    </tr>\n",
       "  </tbody>\n",
       "</table>\n",
       "</div>"
      ],
      "text/plain": [
       "   Rank                   Name  Platform  Year     Genre Publisher  NA_Sales  \\\n",
       "0     1             Wii Sports  Nintendo  2006    Sports  Nintendo     41.49   \n",
       "1     2         Mario Kart Wii  Nintendo  2008    Racing  Nintendo     15.85   \n",
       "2     3      Wii Sports Resort  Nintendo  2009    Sports  Nintendo     15.75   \n",
       "3     4  New Super Mario Bros.  Nintendo  2006  Platform  Nintendo     11.38   \n",
       "4     5               Wii Play  Nintendo  2006      Misc  Nintendo     14.03   \n",
       "\n",
       "   EU_Sales  JP_Sales  Other_Sales  Global_Sales  \n",
       "0     29.02      3.77         8.46         82.74  \n",
       "1     12.88      3.79         3.31         35.82  \n",
       "2     11.01      3.28         2.96         33.00  \n",
       "3      9.23      6.50         2.90         30.01  \n",
       "4      9.20      2.93         2.85         29.02  "
      ]
     },
     "execution_count": 15,
     "metadata": {},
     "output_type": "execute_result"
    }
   ],
   "source": [
    "import csv\n",
    "import matplotlib.pyplot as plt\n",
    "import seaborn as sns\n",
    "import pandas as pd\n",
    "import numpy as np\n",
    "import datetime\n",
    "\n",
    "sns.set_theme(style=\"whitegrid\")\n",
    "\n",
    "videogames = pd.read_csv('top100videogamesales.csv')\n",
    "videogames.head(5)"
   ]
  },
  {
   "cell_type": "code",
   "execution_count": null,
   "id": "a2095fed",
   "metadata": {},
   "outputs": [],
   "source": []
  },
  {
   "cell_type": "markdown",
   "id": "dd3cd4e4",
   "metadata": {},
   "source": [
    "## Determine the appropriate charts to answer the following questions\n",
    "What genre of game is present the most in the top 100 games from 2000-2015?\n",
    "What percentage of global sales does PlayStation have in the dataset?\n",
    "What is the distribution of sales for Shooter games?"
   ]
  },
  {
   "cell_type": "code",
   "execution_count": 2,
   "id": "14713c9e",
   "metadata": {
    "scrolled": true
   },
   "outputs": [
    {
     "data": {
      "text/html": [
       "<div>\n",
       "<style scoped>\n",
       "    .dataframe tbody tr th:only-of-type {\n",
       "        vertical-align: middle;\n",
       "    }\n",
       "\n",
       "    .dataframe tbody tr th {\n",
       "        vertical-align: top;\n",
       "    }\n",
       "\n",
       "    .dataframe thead th {\n",
       "        text-align: right;\n",
       "    }\n",
       "</style>\n",
       "<table border=\"1\" class=\"dataframe\">\n",
       "  <thead>\n",
       "    <tr style=\"text-align: right;\">\n",
       "      <th></th>\n",
       "      <th>Rank</th>\n",
       "      <th>Name</th>\n",
       "      <th>Platform</th>\n",
       "      <th>Year</th>\n",
       "      <th>Genre</th>\n",
       "      <th>Publisher</th>\n",
       "      <th>NA_Sales</th>\n",
       "      <th>EU_Sales</th>\n",
       "      <th>JP_Sales</th>\n",
       "      <th>Other_Sales</th>\n",
       "      <th>Global_Sales</th>\n",
       "    </tr>\n",
       "  </thead>\n",
       "  <tbody>\n",
       "    <tr>\n",
       "      <th>0</th>\n",
       "      <td>1</td>\n",
       "      <td>Wii Sports</td>\n",
       "      <td>Nintendo</td>\n",
       "      <td>2006</td>\n",
       "      <td>Sports</td>\n",
       "      <td>Nintendo</td>\n",
       "      <td>41.49</td>\n",
       "      <td>29.02</td>\n",
       "      <td>3.77</td>\n",
       "      <td>8.46</td>\n",
       "      <td>82.74</td>\n",
       "    </tr>\n",
       "    <tr>\n",
       "      <th>1</th>\n",
       "      <td>2</td>\n",
       "      <td>Mario Kart Wii</td>\n",
       "      <td>Nintendo</td>\n",
       "      <td>2008</td>\n",
       "      <td>Racing</td>\n",
       "      <td>Nintendo</td>\n",
       "      <td>15.85</td>\n",
       "      <td>12.88</td>\n",
       "      <td>3.79</td>\n",
       "      <td>3.31</td>\n",
       "      <td>35.82</td>\n",
       "    </tr>\n",
       "    <tr>\n",
       "      <th>2</th>\n",
       "      <td>3</td>\n",
       "      <td>Wii Sports Resort</td>\n",
       "      <td>Nintendo</td>\n",
       "      <td>2009</td>\n",
       "      <td>Sports</td>\n",
       "      <td>Nintendo</td>\n",
       "      <td>15.75</td>\n",
       "      <td>11.01</td>\n",
       "      <td>3.28</td>\n",
       "      <td>2.96</td>\n",
       "      <td>33.00</td>\n",
       "    </tr>\n",
       "  </tbody>\n",
       "</table>\n",
       "</div>"
      ],
      "text/plain": [
       "   Rank               Name  Platform  Year   Genre Publisher  NA_Sales  \\\n",
       "0     1         Wii Sports  Nintendo  2006  Sports  Nintendo     41.49   \n",
       "1     2     Mario Kart Wii  Nintendo  2008  Racing  Nintendo     15.85   \n",
       "2     3  Wii Sports Resort  Nintendo  2009  Sports  Nintendo     15.75   \n",
       "\n",
       "   EU_Sales  JP_Sales  Other_Sales  Global_Sales  \n",
       "0     29.02      3.77         8.46         82.74  \n",
       "1     12.88      3.79         3.31         35.82  \n",
       "2     11.01      3.28         2.96         33.00  "
      ]
     },
     "execution_count": 2,
     "metadata": {},
     "output_type": "execute_result"
    }
   ],
   "source": [
    "videogames.head(3)"
   ]
  },
  {
   "cell_type": "code",
   "execution_count": 3,
   "id": "9d38afaa",
   "metadata": {
    "scrolled": false
   },
   "outputs": [
    {
     "data": {
      "text/plain": [
       "array(['Sports', 'Racing', 'Platform', 'Misc', 'Simulation', 'Action',\n",
       "       'Role-Playing', 'Puzzle', 'Shooter', 'Fighting'], dtype=object)"
      ]
     },
     "execution_count": 3,
     "metadata": {},
     "output_type": "execute_result"
    }
   ],
   "source": [
    "top_games = videogames.groupby('Global_Sales')\n",
    "top_games = videogames[(videogames['Year'] >= 2000) & (videogames['Year'] <= 2015)]\n",
    "top_games = top_games[:100]\n",
    "seve = top_games['Genre'].unique()\n",
    "seve"
   ]
  },
  {
   "cell_type": "code",
   "execution_count": 14,
   "id": "e77c2fb1",
   "metadata": {
    "scrolled": false
   },
   "outputs": [
    {
     "data": {
      "image/png": "[encoded data removed]",
      "text/plain": [
       "<Figure size 640x480 with 1 Axes>"
      ]
     },
     "metadata": {},
     "output_type": "display_data"
    }
   ],
   "source": [
    "Sports = top_games[top_games['Genre']=='Sports'].count()\n",
    "Sports = Sports[\"Name\"]\n",
    "Racing = top_games[top_games['Genre']=='Racing'].count()\n",
    "Racing = Racing[\"Name\"]\n",
    "Platform = top_games[top_games['Genre']=='Platform'].count()\n",
    "Platform= Platform[\"Name\"]\n",
    "Misc = top_games[top_games['Genre']=='Misc'].count()\n",
    "Misc = Misc[\"Name\"]\n",
    "Simulation = top_games[top_games['Genre']=='Simulation'].count()\n",
    "Simulation = Simulation[\"Name\"]\n",
    "Action = top_games[top_games['Genre']=='Action'].count()\n",
    "Action = Action[\"Name\"]\n",
    "Role_Playing = top_games[top_games['Genre']=='Role-Playing'].count()\n",
    "Role_Playing = Role_Playing[\"Name\"]\n",
    "Puzzle = top_games[top_games['Genre']=='Puzzle'].count()\n",
    "Puzzle = Puzzle[\"Name\"]\n",
    "Shooter = top_games[top_games['Genre']=='Shooter'].count()\n",
    "Shooter = Shooter[\"Name\"]\n",
    "Fighting = top_games[top_games['Genre']=='Fighting'].count()\n",
    "Fighting = Fighting[\"Name\"]\n",
    "\n",
    "platform_values = np.array([Sports, Racing, Platform, Misc, Simulation, Action, Role_Playing, Puzzle, Shooter, Fighting])\n",
    "platform_labels = np.array(['Sports', 'Racing', 'Platform', 'Misc', 'Simulation', 'Action', 'Role-Playing', 'Puzzle', 'Shooter', 'Fighting'])\n",
    "\n",
    "sns.barplot(y=platform_labels, x=platform_values)\n",
    "plt.show()"
   ]
  },
  {
   "cell_type": "code",
   "execution_count": 31,
   "id": "d9fcc62c",
   "metadata": {
    "scrolled": false
   },
   "outputs": [
    {
     "data": {
      "text/plain": [
       "81.63"
      ]
     },
     "execution_count": 31,
     "metadata": {},
     "output_type": "execute_result"
    }
   ],
   "source": [
    "Shooter"
   ]
  },
  {
   "cell_type": "markdown",
   "id": "72870bd2",
   "metadata": {},
   "source": [
    "## Determine the appropriate charts to answer the following questions\n",
    "What genre of game is present the most in the top 100 games from 2000-2015?\n",
    "What percentage of global sales does PlayStation have in the dataset?\n",
    "What is the distribution of sales for Shooter games?"
   ]
  },
  {
   "cell_type": "code",
   "execution_count": 21,
   "id": "65d9594d",
   "metadata": {
    "scrolled": true
   },
   "outputs": [
    {
     "data": {
      "text/plain": [
       "array(['Nintendo', 'XBox', 'PlayStation', 'Other'], dtype=object)"
      ]
     },
     "execution_count": 21,
     "metadata": {},
     "output_type": "execute_result"
    }
   ],
   "source": [
    "playstation = videogames['Platform'].unique()\n",
    "playstation"
   ]
  },
  {
   "cell_type": "code",
   "execution_count": 22,
   "id": "0c905358",
   "metadata": {},
   "outputs": [
    {
     "data": {
      "text/html": [
       "<div>\n",
       "<style scoped>\n",
       "    .dataframe tbody tr th:only-of-type {\n",
       "        vertical-align: middle;\n",
       "    }\n",
       "\n",
       "    .dataframe tbody tr th {\n",
       "        vertical-align: top;\n",
       "    }\n",
       "\n",
       "    .dataframe thead th {\n",
       "        text-align: right;\n",
       "    }\n",
       "</style>\n",
       "<table border=\"1\" class=\"dataframe\">\n",
       "  <thead>\n",
       "    <tr style=\"text-align: right;\">\n",
       "      <th></th>\n",
       "      <th>Global_Sales</th>\n",
       "    </tr>\n",
       "    <tr>\n",
       "      <th>Platform</th>\n",
       "      <th></th>\n",
       "    </tr>\n",
       "  </thead>\n",
       "  <tbody>\n",
       "    <tr>\n",
       "      <th>Other</th>\n",
       "      <td>8.11</td>\n",
       "    </tr>\n",
       "    <tr>\n",
       "      <th>XBox</th>\n",
       "      <td>212.47</td>\n",
       "    </tr>\n",
       "    <tr>\n",
       "      <th>PlayStation</th>\n",
       "      <td>342.67</td>\n",
       "    </tr>\n",
       "    <tr>\n",
       "      <th>Nintendo</th>\n",
       "      <td>702.01</td>\n",
       "    </tr>\n",
       "  </tbody>\n",
       "</table>\n",
       "</div>"
      ],
      "text/plain": [
       "             Global_Sales\n",
       "Platform                 \n",
       "Other                8.11\n",
       "XBox               212.47\n",
       "PlayStation        342.67\n",
       "Nintendo           702.01"
      ]
     },
     "execution_count": 22,
     "metadata": {},
     "output_type": "execute_result"
    }
   ],
   "source": [
    "global_sales_by_platform = videogames[['Platform', 'Global_Sales']].groupby('Platform').sum()\n",
    "global_sales_by_platform = global_sales_by_platform.sort_values('Global_Sales')\n",
    "global_sales_by_platform\n"
   ]
  },
  {
   "cell_type": "code",
   "execution_count": 28,
   "id": "17b608c4",
   "metadata": {},
   "outputs": [
    {
     "data": {
      "text/plain": [
       "Text(0.5, 1.0, 'Global Sales by Platform')"
      ]
     },
     "execution_count": 28,
     "metadata": {},
     "output_type": "execute_result"
    },
    {
     "data": {
      "image/png": "[encoded data removed]",
      "text/plain": [
       "<Figure size 1100x800 with 1 Axes>"
      ]
     },
     "metadata": {},
     "output_type": "display_data"
    }
   ],
   "source": [
    "\n",
    "xbox = global_sales_by_platform.loc['XBox'].values[0]\n",
    "playstation = global_sales_by_platform.loc['PlayStation'].values[0]\n",
    "nintendo = global_sales_by_platform.loc['Nintendo'].values[0]\n",
    "\n",
    "\n",
    "index = ['XBox', 'PlayStation', 'Nintendo']\n",
    "\n",
    "wp = { 'linewidth' : 2, 'edgecolor' : \"black\" }\n",
    "\n",
    "global_sales_by_platform_df = pd.DataFrame({'Global_Sales': [xbox, playstation, nintendo]\n",
    "                  }, index=index)\n",
    "\n",
    "plot = global_sales_by_platform_df.plot.pie(y = 'Global_Sales',  startangle = 120, wedgeprops = wp, autopct=\"%.1f\", figsize=(11, 8))\n",
    "plt.title(\"Global Sales by Platform\")"
   ]
  },
  {
   "cell_type": "code",
   "execution_count": 29,
   "id": "d4dc6370",
   "metadata": {
    "scrolled": true
   },
   "outputs": [
    {
     "data": {
      "text/html": [
       "<div>\n",
       "<style scoped>\n",
       "    .dataframe tbody tr th:only-of-type {\n",
       "        vertical-align: middle;\n",
       "    }\n",
       "\n",
       "    .dataframe tbody tr th {\n",
       "        vertical-align: top;\n",
       "    }\n",
       "\n",
       "    .dataframe thead th {\n",
       "        text-align: right;\n",
       "    }\n",
       "</style>\n",
       "<table border=\"1\" class=\"dataframe\">\n",
       "  <thead>\n",
       "    <tr style=\"text-align: right;\">\n",
       "      <th></th>\n",
       "      <th>Rank</th>\n",
       "      <th>Name</th>\n",
       "      <th>Platform</th>\n",
       "      <th>Year</th>\n",
       "      <th>Genre</th>\n",
       "      <th>Publisher</th>\n",
       "      <th>NA_Sales</th>\n",
       "      <th>EU_Sales</th>\n",
       "      <th>JP_Sales</th>\n",
       "      <th>Other_Sales</th>\n",
       "      <th>Global_Sales</th>\n",
       "    </tr>\n",
       "  </thead>\n",
       "  <tbody>\n",
       "    <tr>\n",
       "      <th>0</th>\n",
       "      <td>1</td>\n",
       "      <td>Wii Sports</td>\n",
       "      <td>Nintendo</td>\n",
       "      <td>2006</td>\n",
       "      <td>Sports</td>\n",
       "      <td>Nintendo</td>\n",
       "      <td>41.49</td>\n",
       "      <td>29.02</td>\n",
       "      <td>3.77</td>\n",
       "      <td>8.46</td>\n",
       "      <td>82.74</td>\n",
       "    </tr>\n",
       "    <tr>\n",
       "      <th>1</th>\n",
       "      <td>2</td>\n",
       "      <td>Mario Kart Wii</td>\n",
       "      <td>Nintendo</td>\n",
       "      <td>2008</td>\n",
       "      <td>Racing</td>\n",
       "      <td>Nintendo</td>\n",
       "      <td>15.85</td>\n",
       "      <td>12.88</td>\n",
       "      <td>3.79</td>\n",
       "      <td>3.31</td>\n",
       "      <td>35.82</td>\n",
       "    </tr>\n",
       "    <tr>\n",
       "      <th>2</th>\n",
       "      <td>3</td>\n",
       "      <td>Wii Sports Resort</td>\n",
       "      <td>Nintendo</td>\n",
       "      <td>2009</td>\n",
       "      <td>Sports</td>\n",
       "      <td>Nintendo</td>\n",
       "      <td>15.75</td>\n",
       "      <td>11.01</td>\n",
       "      <td>3.28</td>\n",
       "      <td>2.96</td>\n",
       "      <td>33.00</td>\n",
       "    </tr>\n",
       "  </tbody>\n",
       "</table>\n",
       "</div>"
      ],
      "text/plain": [
       "   Rank               Name  Platform  Year   Genre Publisher  NA_Sales  \\\n",
       "0     1         Wii Sports  Nintendo  2006  Sports  Nintendo     41.49   \n",
       "1     2     Mario Kart Wii  Nintendo  2008  Racing  Nintendo     15.85   \n",
       "2     3  Wii Sports Resort  Nintendo  2009  Sports  Nintendo     15.75   \n",
       "\n",
       "   EU_Sales  JP_Sales  Other_Sales  Global_Sales  \n",
       "0     29.02      3.77         8.46         82.74  \n",
       "1     12.88      3.79         3.31         35.82  \n",
       "2     11.01      3.28         2.96         33.00  "
      ]
     },
     "execution_count": 29,
     "metadata": {},
     "output_type": "execute_result"
    }
   ],
   "source": [
    "videogames.head(3)"
   ]
  },
  {
   "cell_type": "markdown",
   "id": "8d203ffe",
   "metadata": {},
   "source": [
    "### What is the distribution of sales for Shooter games?"
   ]
  },
  {
   "cell_type": "code",
   "execution_count": 30,
   "id": "83e81598",
   "metadata": {},
   "outputs": [
    {
     "data": {
      "text/plain": [
       "<AxesSubplot: title={'center': 'Distribution of Sale for shooter GAmes'}, ylabel='Frequency'>"
      ]
     },
     "execution_count": 30,
     "metadata": {},
     "output_type": "execute_result"
    },
    {
     "data": {
      "image/png": "[encoded data removed]",
      "text/plain": [
       "<Figure size 1000x800 with 1 Axes>"
      ]
     },
     "metadata": {},
     "output_type": "display_data"
    }
   ],
   "source": [
    "action_games = videogames[videogames['Genre'] == 'Shooter']\n",
    "action_games[['Global_Sales']].plot(kind ='hist', bins=17, figsize=(10,8), color=\"green\", linestyle=\"solid\", title = 'Distribution of Sale for shooter GAmes')"
   ]
  },
  {
   "cell_type": "code",
   "execution_count": 33,
   "id": "a5293453",
   "metadata": {},
   "outputs": [
    {
     "data": {
      "text/plain": [
       "Rank            25\n",
       "Name            25\n",
       "Platform        25\n",
       "Year            25\n",
       "Genre           25\n",
       "Publisher       25\n",
       "NA_Sales        25\n",
       "EU_Sales        25\n",
       "JP_Sales        25\n",
       "Other_Sales     25\n",
       "Global_Sales    25\n",
       "dtype: int64"
      ]
     },
     "execution_count": 33,
     "metadata": {},
     "output_type": "execute_result"
    }
   ],
   "source": [
    "action_games = videogames[videogames['Genre'] == 'Shooter']\n",
    "action_games.count()"
   ]
  }
 ],
 "metadata": {
  "kernelspec": {
   "display_name": "Python 3 (ipykernel)",
   "language": "python",
   "name": "python3"
  },
  "language_info": {
   "codemirror_mode": {
    "name": "ipython",
    "version": 3
   },
   "file_extension": ".py",
   "mimetype": "text/x-python",
   "name": "python",
   "nbconvert_exporter": "python",
   "pygments_lexer": "ipython3",
   "version": "3.10.9"
  }
 },
 "nbformat": 4,
 "nbformat_minor": 5
}
